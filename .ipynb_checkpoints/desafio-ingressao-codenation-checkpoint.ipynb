{
 "cells": [
  {
   "cell_type": "markdown",
   "metadata": {},
   "source": [
    "# Desafio Codenation \n",
    "Link do desafio: https://www.codenation.dev/aceleradev/ds-online-1/challenge/enem-ps\n",
    "\n",
    "# Descrição do desafio\n",
    "\n",
    "Descubra as melhores notas de matemática do ENEM 2016\n",
    "\n",
    "Você deverá criar um modelo para prever a nota da prova de matemática de quem participou do ENEM 2016. \n",
    "\n",
    "### Detalhes\n",
    "\n",
    "O contexto do desafio gira em torno dos resultados do ENEM 2016 (disponíveis no arquivo train.csv). Este arquivo, e apenas ele, deve ser utilizado para todos os desafios. Qualquer dúvida a respeito das colunas, consulte o [Dicionário dos Microdados do Enem 2016](https://s3-us-west-1.amazonaws.com/acceleration-assets-highway/data-science/dicionario-de-dados.zip).\n",
    "\n",
    "Muitas universidades brasileiras utilizam o ENEM para selecionar seus futuros alunos e alunas. Isto é feito com uma média ponderada das notas das provas de matemática, ciências da natureza, linguagens e códigos, ciências humanas e redação. Determine os 20 melhores colocados, por ordem, para os pesos abaixo:\n",
    "\n",
    "- matemática: 3\n",
    "- ciências da natureza: 2\n",
    "- linguagens e códigos: 1.5\n",
    "- ciências humanas: 1\n",
    "- redação: 3\n",
    "\n",
    "No arquivo test.csv crie um modelo para prever nota da prova de matemática (coluna **NU_NOTA_MT**) de quem participou do ENEM 2016. \n",
    "\n",
    "Salve sua resposta em um arquivo chamado answer.csv com duas colunas: **NU_INSCRICAO** e **NU_NOTA_MT**.\n",
    "\n",
    "Faça o upload do arquivo answer.csv usando o botão \"Submeter resposta\".\n",
    "\n",
    "## Observações\n",
    "\n",
    "O objetivo do desafio é avaliar a sua capacidade de resolver problemas, então ele pode ser resolvido em qualquer linguagem de programação ou ferramenta que você tenha facilidade. Mas recomendamos o uso de linguagens com maior ferramental de matemática e estatística como Python, R, Scala ou Julia.\n"
   ]
  },
  {
   "cell_type": "code",
   "execution_count": 1,
   "metadata": {},
   "outputs": [],
   "source": [
    "import pandas as pd\n",
    "import numpy as np\n",
    "import seaborn as sns"
   ]
  },
  {
   "cell_type": "code",
   "execution_count": 2,
   "metadata": {},
   "outputs": [],
   "source": [
    "arq = pd.read_csv('data/train-enem.csv')"
   ]
  },
  {
   "cell_type": "code",
   "execution_count": 3,
   "metadata": {},
   "outputs": [
    {
     "data": {
      "text/plain": [
       "Index(['Unnamed: 0', 'NU_INSCRICAO', 'NU_ANO', 'CO_MUNICIPIO_RESIDENCIA',\n",
       "       'NO_MUNICIPIO_RESIDENCIA', 'CO_UF_RESIDENCIA', 'SG_UF_RESIDENCIA',\n",
       "       'NU_IDADE', 'TP_SEXO', 'TP_ESTADO_CIVIL',\n",
       "       ...\n",
       "       'Q041', 'Q042', 'Q043', 'Q044', 'Q045', 'Q046', 'Q047', 'Q048', 'Q049',\n",
       "       'Q050'],\n",
       "      dtype='object', length=167)"
      ]
     },
     "execution_count": 3,
     "metadata": {},
     "output_type": "execute_result"
    }
   ],
   "source": [
    "arq.columns"
   ]
  },
  {
   "cell_type": "code",
   "execution_count": 4,
   "metadata": {},
   "outputs": [],
   "source": [
    "colunas = ['TP_COR_RACA',\n",
    "           'TP_ESCOLA',\n",
    "           'IN_DISCALCULIA',\n",
    "           'NU_NOTA_CN', \n",
    "           'NU_NOTA_CH', \n",
    "           'NU_NOTA_LC',\n",
    "           'NU_NOTA_MT',\n",
    "           'TP_LINGUA', \n",
    "           'NU_NOTA_REDACAO']\n",
    "df = arq[colunas]"
   ]
  },
  {
   "cell_type": "code",
   "execution_count": 5,
   "metadata": {},
   "outputs": [
    {
     "data": {
      "text/html": [
       "<div>\n",
       "<style scoped>\n",
       "    .dataframe tbody tr th:only-of-type {\n",
       "        vertical-align: middle;\n",
       "    }\n",
       "\n",
       "    .dataframe tbody tr th {\n",
       "        vertical-align: top;\n",
       "    }\n",
       "\n",
       "    .dataframe thead th {\n",
       "        text-align: right;\n",
       "    }\n",
       "</style>\n",
       "<table border=\"1\" class=\"dataframe\">\n",
       "  <thead>\n",
       "    <tr style=\"text-align: right;\">\n",
       "      <th></th>\n",
       "      <th>TP_COR_RACA</th>\n",
       "      <th>TP_ESCOLA</th>\n",
       "      <th>IN_DISCALCULIA</th>\n",
       "      <th>NU_NOTA_CN</th>\n",
       "      <th>NU_NOTA_CH</th>\n",
       "      <th>NU_NOTA_LC</th>\n",
       "      <th>NU_NOTA_MT</th>\n",
       "      <th>TP_LINGUA</th>\n",
       "      <th>NU_NOTA_REDACAO</th>\n",
       "    </tr>\n",
       "  </thead>\n",
       "  <tbody>\n",
       "    <tr>\n",
       "      <th>0</th>\n",
       "      <td>1</td>\n",
       "      <td>1</td>\n",
       "      <td>0</td>\n",
       "      <td>436.3</td>\n",
       "      <td>495.4</td>\n",
       "      <td>581.2</td>\n",
       "      <td>399.4</td>\n",
       "      <td>1</td>\n",
       "      <td>520.0</td>\n",
       "    </tr>\n",
       "    <tr>\n",
       "      <th>1</th>\n",
       "      <td>3</td>\n",
       "      <td>2</td>\n",
       "      <td>0</td>\n",
       "      <td>474.5</td>\n",
       "      <td>544.1</td>\n",
       "      <td>599.0</td>\n",
       "      <td>459.8</td>\n",
       "      <td>1</td>\n",
       "      <td>580.0</td>\n",
       "    </tr>\n",
       "    <tr>\n",
       "      <th>2</th>\n",
       "      <td>3</td>\n",
       "      <td>1</td>\n",
       "      <td>0</td>\n",
       "      <td>NaN</td>\n",
       "      <td>NaN</td>\n",
       "      <td>NaN</td>\n",
       "      <td>NaN</td>\n",
       "      <td>1</td>\n",
       "      <td>NaN</td>\n",
       "    </tr>\n",
       "    <tr>\n",
       "      <th>3</th>\n",
       "      <td>0</td>\n",
       "      <td>1</td>\n",
       "      <td>0</td>\n",
       "      <td>NaN</td>\n",
       "      <td>NaN</td>\n",
       "      <td>NaN</td>\n",
       "      <td>NaN</td>\n",
       "      <td>0</td>\n",
       "      <td>NaN</td>\n",
       "    </tr>\n",
       "    <tr>\n",
       "      <th>4</th>\n",
       "      <td>2</td>\n",
       "      <td>1</td>\n",
       "      <td>0</td>\n",
       "      <td>NaN</td>\n",
       "      <td>NaN</td>\n",
       "      <td>NaN</td>\n",
       "      <td>NaN</td>\n",
       "      <td>1</td>\n",
       "      <td>NaN</td>\n",
       "    </tr>\n",
       "  </tbody>\n",
       "</table>\n",
       "</div>"
      ],
      "text/plain": [
       "   TP_COR_RACA  TP_ESCOLA  IN_DISCALCULIA  NU_NOTA_CN  NU_NOTA_CH  NU_NOTA_LC  \\\n",
       "0            1          1               0       436.3       495.4       581.2   \n",
       "1            3          2               0       474.5       544.1       599.0   \n",
       "2            3          1               0         NaN         NaN         NaN   \n",
       "3            0          1               0         NaN         NaN         NaN   \n",
       "4            2          1               0         NaN         NaN         NaN   \n",
       "\n",
       "   NU_NOTA_MT  TP_LINGUA  NU_NOTA_REDACAO  \n",
       "0       399.4          1            520.0  \n",
       "1       459.8          1            580.0  \n",
       "2         NaN          1              NaN  \n",
       "3         NaN          0              NaN  \n",
       "4         NaN          1              NaN  "
      ]
     },
     "execution_count": 5,
     "metadata": {},
     "output_type": "execute_result"
    }
   ],
   "source": [
    "df.head(5)"
   ]
  },
  {
   "cell_type": "code",
   "execution_count": 6,
   "metadata": {},
   "outputs": [
    {
     "data": {
      "text/plain": [
       "<matplotlib.axes._subplots.AxesSubplot at 0x7f26c62e8090>"
      ]
     },
     "execution_count": 6,
     "metadata": {},
     "output_type": "execute_result"
    },
    {
     "data": {
      "image/png": "[encoded data removed]",
      "text/plain": [
       "<Figure size 432x288 with 1 Axes>"
      ]
     },
     "metadata": {
      "needs_background": "light"
     },
     "output_type": "display_data"
    }
   ],
   "source": [
    "# Verificando os valores nulos no df\n",
    "sns.heatmap(df[colunas].isnull(), cbar=False)"
   ]
  },
  {
   "cell_type": "code",
   "execution_count": 7,
   "metadata": {},
   "outputs": [],
   "source": [
    "# Preenchendo os valores nulos por zero\n",
    "df = df.fillna(0)"
   ]
  },
  {
   "cell_type": "code",
   "execution_count": 8,
   "metadata": {},
   "outputs": [
    {
     "data": {
      "text/plain": [
       "<matplotlib.axes._subplots.AxesSubplot at 0x7f26c5692e10>"
      ]
     },
     "execution_count": 8,
     "metadata": {},
     "output_type": "execute_result"
    },
    {
     "data": {
      "image/png": "[encoded data removed]",
      "text/plain": [
       "<Figure size 432x288 with 1 Axes>"
      ]
     },
     "metadata": {
      "needs_background": "light"
     },
     "output_type": "display_data"
    }
   ],
   "source": [
    "sns.heatmap(df[colunas].isnull(), cbar=False)"
   ]
  },
  {
   "cell_type": "code",
   "execution_count": 9,
   "metadata": {
    "scrolled": true
   },
   "outputs": [
    {
     "data": {
      "text/plain": [
       "<matplotlib.axes._subplots.AxesSubplot at 0x7f26c0d93550>"
      ]
     },
     "execution_count": 9,
     "metadata": {},
     "output_type": "execute_result"
    },
    {
     "data": {
      "image/png": "[encoded data removed]",
      "text/plain": [
       "<Figure size 432x288 with 2 Axes>"
      ]
     },
     "metadata": {
      "needs_background": "light"
     },
     "output_type": "display_data"
    }
   ],
   "source": [
    "# Plotando um mapa para verificar a correlação entre as variáveis\n",
    "sns.heatmap(df.corr())"
   ]
  },
  {
   "cell_type": "code",
   "execution_count": 10,
   "metadata": {},
   "outputs": [],
   "source": [
    "# Dropando algumas colunas que não parecem ter correlação\n",
    "df.drop('TP_LINGUA', axis=1, inplace=True)"
   ]
  },
  {
   "cell_type": "code",
   "execution_count": 11,
   "metadata": {},
   "outputs": [],
   "source": [
    "# Lidando com as variáveis categóricas\n",
    "dict_tp_escola = {1: 'Não Respondeu', \n",
    "                  2: 'Pública', \n",
    "                  3: 'Privada', \n",
    "                  4: 'Exterior'}\n",
    "\n",
    "dict_cor_raca = {0: 'Não Declarado', \n",
    "                1: 'Branca',\n",
    "                2: 'Preta',\n",
    "                3: 'Parda',\n",
    "                4: 'Amarela',\n",
    "                5: 'Indígena',\n",
    "                6: 'Não dispões da informação'}"
   ]
  },
  {
   "cell_type": "code",
   "execution_count": 12,
   "metadata": {},
   "outputs": [],
   "source": [
    "df['TP_ESCOLA'] = df['TP_ESCOLA'].map(dict_tp_escola)\n",
    "df['TP_COR_RACA'] = df['TP_COR_RACA'].map(dict_cor_raca)"
   ]
  },
  {
   "cell_type": "code",
   "execution_count": 13,
   "metadata": {},
   "outputs": [
    {
     "data": {
      "text/html": [
       "<div>\n",
       "<style scoped>\n",
       "    .dataframe tbody tr th:only-of-type {\n",
       "        vertical-align: middle;\n",
       "    }\n",
       "\n",
       "    .dataframe tbody tr th {\n",
       "        vertical-align: top;\n",
       "    }\n",
       "\n",
       "    .dataframe thead th {\n",
       "        text-align: right;\n",
       "    }\n",
       "</style>\n",
       "<table border=\"1\" class=\"dataframe\">\n",
       "  <thead>\n",
       "    <tr style=\"text-align: right;\">\n",
       "      <th></th>\n",
       "      <th>TP_COR_RACA</th>\n",
       "      <th>TP_ESCOLA</th>\n",
       "      <th>IN_DISCALCULIA</th>\n",
       "      <th>NU_NOTA_CN</th>\n",
       "      <th>NU_NOTA_CH</th>\n",
       "      <th>NU_NOTA_LC</th>\n",
       "      <th>NU_NOTA_MT</th>\n",
       "      <th>NU_NOTA_REDACAO</th>\n",
       "    </tr>\n",
       "  </thead>\n",
       "  <tbody>\n",
       "    <tr>\n",
       "      <th>0</th>\n",
       "      <td>Branca</td>\n",
       "      <td>Não Respondeu</td>\n",
       "      <td>0</td>\n",
       "      <td>436.3</td>\n",
       "      <td>495.4</td>\n",
       "      <td>581.2</td>\n",
       "      <td>399.4</td>\n",
       "      <td>520.0</td>\n",
       "    </tr>\n",
       "    <tr>\n",
       "      <th>1</th>\n",
       "      <td>Parda</td>\n",
       "      <td>Pública</td>\n",
       "      <td>0</td>\n",
       "      <td>474.5</td>\n",
       "      <td>544.1</td>\n",
       "      <td>599.0</td>\n",
       "      <td>459.8</td>\n",
       "      <td>580.0</td>\n",
       "    </tr>\n",
       "    <tr>\n",
       "      <th>2</th>\n",
       "      <td>Parda</td>\n",
       "      <td>Não Respondeu</td>\n",
       "      <td>0</td>\n",
       "      <td>0.0</td>\n",
       "      <td>0.0</td>\n",
       "      <td>0.0</td>\n",
       "      <td>0.0</td>\n",
       "      <td>0.0</td>\n",
       "    </tr>\n",
       "    <tr>\n",
       "      <th>3</th>\n",
       "      <td>Não Declarado</td>\n",
       "      <td>Não Respondeu</td>\n",
       "      <td>0</td>\n",
       "      <td>0.0</td>\n",
       "      <td>0.0</td>\n",
       "      <td>0.0</td>\n",
       "      <td>0.0</td>\n",
       "      <td>0.0</td>\n",
       "    </tr>\n",
       "    <tr>\n",
       "      <th>4</th>\n",
       "      <td>Preta</td>\n",
       "      <td>Não Respondeu</td>\n",
       "      <td>0</td>\n",
       "      <td>0.0</td>\n",
       "      <td>0.0</td>\n",
       "      <td>0.0</td>\n",
       "      <td>0.0</td>\n",
       "      <td>0.0</td>\n",
       "    </tr>\n",
       "  </tbody>\n",
       "</table>\n",
       "</div>"
      ],
      "text/plain": [
       "     TP_COR_RACA      TP_ESCOLA  IN_DISCALCULIA  NU_NOTA_CN  NU_NOTA_CH  \\\n",
       "0         Branca  Não Respondeu               0       436.3       495.4   \n",
       "1          Parda        Pública               0       474.5       544.1   \n",
       "2          Parda  Não Respondeu               0         0.0         0.0   \n",
       "3  Não Declarado  Não Respondeu               0         0.0         0.0   \n",
       "4          Preta  Não Respondeu               0         0.0         0.0   \n",
       "\n",
       "   NU_NOTA_LC  NU_NOTA_MT  NU_NOTA_REDACAO  \n",
       "0       581.2       399.4            520.0  \n",
       "1       599.0       459.8            580.0  \n",
       "2         0.0         0.0              0.0  \n",
       "3         0.0         0.0              0.0  \n",
       "4         0.0         0.0              0.0  "
      ]
     },
     "execution_count": 13,
     "metadata": {},
     "output_type": "execute_result"
    }
   ],
   "source": [
    "df.head(5)"
   ]
  },
  {
   "cell_type": "code",
   "execution_count": 14,
   "metadata": {},
   "outputs": [
    {
     "data": {
      "text/html": [
       "<div>\n",
       "<style scoped>\n",
       "    .dataframe tbody tr th:only-of-type {\n",
       "        vertical-align: middle;\n",
       "    }\n",
       "\n",
       "    .dataframe tbody tr th {\n",
       "        vertical-align: top;\n",
       "    }\n",
       "\n",
       "    .dataframe thead th {\n",
       "        text-align: right;\n",
       "    }\n",
       "</style>\n",
       "<table border=\"1\" class=\"dataframe\">\n",
       "  <thead>\n",
       "    <tr style=\"text-align: right;\">\n",
       "      <th></th>\n",
       "      <th>IN_DISCALCULIA</th>\n",
       "      <th>NU_NOTA_CN</th>\n",
       "      <th>NU_NOTA_CH</th>\n",
       "      <th>NU_NOTA_LC</th>\n",
       "      <th>NU_NOTA_MT</th>\n",
       "      <th>NU_NOTA_REDACAO</th>\n",
       "    </tr>\n",
       "  </thead>\n",
       "  <tbody>\n",
       "    <tr>\n",
       "      <th>count</th>\n",
       "      <td>13730.000000</td>\n",
       "      <td>13730.000000</td>\n",
       "      <td>13730.000000</td>\n",
       "      <td>13730.000000</td>\n",
       "      <td>13730.000000</td>\n",
       "      <td>13730.000000</td>\n",
       "    </tr>\n",
       "    <tr>\n",
       "      <th>mean</th>\n",
       "      <td>0.000073</td>\n",
       "      <td>356.621515</td>\n",
       "      <td>398.923911</td>\n",
       "      <td>381.166737</td>\n",
       "      <td>356.092607</td>\n",
       "      <td>390.447633</td>\n",
       "    </tr>\n",
       "    <tr>\n",
       "      <th>std</th>\n",
       "      <td>0.008534</td>\n",
       "      <td>213.282315</td>\n",
       "      <td>237.174594</td>\n",
       "      <td>234.648409</td>\n",
       "      <td>228.844193</td>\n",
       "      <td>267.749316</td>\n",
       "    </tr>\n",
       "    <tr>\n",
       "      <th>min</th>\n",
       "      <td>0.000000</td>\n",
       "      <td>0.000000</td>\n",
       "      <td>0.000000</td>\n",
       "      <td>0.000000</td>\n",
       "      <td>0.000000</td>\n",
       "      <td>0.000000</td>\n",
       "    </tr>\n",
       "    <tr>\n",
       "      <th>25%</th>\n",
       "      <td>0.000000</td>\n",
       "      <td>365.625000</td>\n",
       "      <td>345.900000</td>\n",
       "      <td>0.000000</td>\n",
       "      <td>0.000000</td>\n",
       "      <td>0.000000</td>\n",
       "    </tr>\n",
       "    <tr>\n",
       "      <th>50%</th>\n",
       "      <td>0.000000</td>\n",
       "      <td>433.100000</td>\n",
       "      <td>499.600000</td>\n",
       "      <td>486.000000</td>\n",
       "      <td>422.500000</td>\n",
       "      <td>480.000000</td>\n",
       "    </tr>\n",
       "    <tr>\n",
       "      <th>75%</th>\n",
       "      <td>0.000000</td>\n",
       "      <td>493.200000</td>\n",
       "      <td>564.400000</td>\n",
       "      <td>548.300000</td>\n",
       "      <td>504.400000</td>\n",
       "      <td>580.000000</td>\n",
       "    </tr>\n",
       "    <tr>\n",
       "      <th>max</th>\n",
       "      <td>1.000000</td>\n",
       "      <td>806.400000</td>\n",
       "      <td>807.000000</td>\n",
       "      <td>763.600000</td>\n",
       "      <td>952.000000</td>\n",
       "      <td>1000.000000</td>\n",
       "    </tr>\n",
       "  </tbody>\n",
       "</table>\n",
       "</div>"
      ],
      "text/plain": [
       "       IN_DISCALCULIA    NU_NOTA_CN    NU_NOTA_CH    NU_NOTA_LC    NU_NOTA_MT  \\\n",
       "count    13730.000000  13730.000000  13730.000000  13730.000000  13730.000000   \n",
       "mean         0.000073    356.621515    398.923911    381.166737    356.092607   \n",
       "std          0.008534    213.282315    237.174594    234.648409    228.844193   \n",
       "min          0.000000      0.000000      0.000000      0.000000      0.000000   \n",
       "25%          0.000000    365.625000    345.900000      0.000000      0.000000   \n",
       "50%          0.000000    433.100000    499.600000    486.000000    422.500000   \n",
       "75%          0.000000    493.200000    564.400000    548.300000    504.400000   \n",
       "max          1.000000    806.400000    807.000000    763.600000    952.000000   \n",
       "\n",
       "       NU_NOTA_REDACAO  \n",
       "count     13730.000000  \n",
       "mean        390.447633  \n",
       "std         267.749316  \n",
       "min           0.000000  \n",
       "25%           0.000000  \n",
       "50%         480.000000  \n",
       "75%         580.000000  \n",
       "max        1000.000000  "
      ]
     },
     "execution_count": 14,
     "metadata": {},
     "output_type": "execute_result"
    }
   ],
   "source": [
    "df.describe()"
   ]
  },
  {
   "cell_type": "code",
   "execution_count": 15,
   "metadata": {},
   "outputs": [],
   "source": [
    "df2 = pd.get_dummies(df, prefix=['TP_ESCOLA', 'TP_COR_RACA'])"
   ]
  },
  {
   "cell_type": "code",
   "execution_count": 16,
   "metadata": {
    "scrolled": true
   },
   "outputs": [
    {
     "data": {
      "text/html": [
       "<div>\n",
       "<style scoped>\n",
       "    .dataframe tbody tr th:only-of-type {\n",
       "        vertical-align: middle;\n",
       "    }\n",
       "\n",
       "    .dataframe tbody tr th {\n",
       "        vertical-align: top;\n",
       "    }\n",
       "\n",
       "    .dataframe thead th {\n",
       "        text-align: right;\n",
       "    }\n",
       "</style>\n",
       "<table border=\"1\" class=\"dataframe\">\n",
       "  <thead>\n",
       "    <tr style=\"text-align: right;\">\n",
       "      <th></th>\n",
       "      <th>IN_DISCALCULIA</th>\n",
       "      <th>NU_NOTA_CN</th>\n",
       "      <th>NU_NOTA_CH</th>\n",
       "      <th>NU_NOTA_LC</th>\n",
       "      <th>NU_NOTA_MT</th>\n",
       "      <th>NU_NOTA_REDACAO</th>\n",
       "      <th>TP_ESCOLA_Amarela</th>\n",
       "      <th>TP_ESCOLA_Branca</th>\n",
       "      <th>TP_ESCOLA_Indígena</th>\n",
       "      <th>TP_ESCOLA_Não Declarado</th>\n",
       "      <th>TP_ESCOLA_Parda</th>\n",
       "      <th>TP_ESCOLA_Preta</th>\n",
       "      <th>TP_COR_RACA_Exterior</th>\n",
       "      <th>TP_COR_RACA_Não Respondeu</th>\n",
       "      <th>TP_COR_RACA_Privada</th>\n",
       "      <th>TP_COR_RACA_Pública</th>\n",
       "    </tr>\n",
       "  </thead>\n",
       "  <tbody>\n",
       "    <tr>\n",
       "      <th>0</th>\n",
       "      <td>0</td>\n",
       "      <td>436.3</td>\n",
       "      <td>495.4</td>\n",
       "      <td>581.2</td>\n",
       "      <td>399.4</td>\n",
       "      <td>520.0</td>\n",
       "      <td>0</td>\n",
       "      <td>1</td>\n",
       "      <td>0</td>\n",
       "      <td>0</td>\n",
       "      <td>0</td>\n",
       "      <td>0</td>\n",
       "      <td>0</td>\n",
       "      <td>1</td>\n",
       "      <td>0</td>\n",
       "      <td>0</td>\n",
       "    </tr>\n",
       "    <tr>\n",
       "      <th>1</th>\n",
       "      <td>0</td>\n",
       "      <td>474.5</td>\n",
       "      <td>544.1</td>\n",
       "      <td>599.0</td>\n",
       "      <td>459.8</td>\n",
       "      <td>580.0</td>\n",
       "      <td>0</td>\n",
       "      <td>0</td>\n",
       "      <td>0</td>\n",
       "      <td>0</td>\n",
       "      <td>1</td>\n",
       "      <td>0</td>\n",
       "      <td>0</td>\n",
       "      <td>0</td>\n",
       "      <td>0</td>\n",
       "      <td>1</td>\n",
       "    </tr>\n",
       "    <tr>\n",
       "      <th>2</th>\n",
       "      <td>0</td>\n",
       "      <td>0.0</td>\n",
       "      <td>0.0</td>\n",
       "      <td>0.0</td>\n",
       "      <td>0.0</td>\n",
       "      <td>0.0</td>\n",
       "      <td>0</td>\n",
       "      <td>0</td>\n",
       "      <td>0</td>\n",
       "      <td>0</td>\n",
       "      <td>1</td>\n",
       "      <td>0</td>\n",
       "      <td>0</td>\n",
       "      <td>1</td>\n",
       "      <td>0</td>\n",
       "      <td>0</td>\n",
       "    </tr>\n",
       "    <tr>\n",
       "      <th>3</th>\n",
       "      <td>0</td>\n",
       "      <td>0.0</td>\n",
       "      <td>0.0</td>\n",
       "      <td>0.0</td>\n",
       "      <td>0.0</td>\n",
       "      <td>0.0</td>\n",
       "      <td>0</td>\n",
       "      <td>0</td>\n",
       "      <td>0</td>\n",
       "      <td>1</td>\n",
       "      <td>0</td>\n",
       "      <td>0</td>\n",
       "      <td>0</td>\n",
       "      <td>1</td>\n",
       "      <td>0</td>\n",
       "      <td>0</td>\n",
       "    </tr>\n",
       "    <tr>\n",
       "      <th>4</th>\n",
       "      <td>0</td>\n",
       "      <td>0.0</td>\n",
       "      <td>0.0</td>\n",
       "      <td>0.0</td>\n",
       "      <td>0.0</td>\n",
       "      <td>0.0</td>\n",
       "      <td>0</td>\n",
       "      <td>0</td>\n",
       "      <td>0</td>\n",
       "      <td>0</td>\n",
       "      <td>0</td>\n",
       "      <td>1</td>\n",
       "      <td>0</td>\n",
       "      <td>1</td>\n",
       "      <td>0</td>\n",
       "      <td>0</td>\n",
       "    </tr>\n",
       "  </tbody>\n",
       "</table>\n",
       "</div>"
      ],
      "text/plain": [
       "   IN_DISCALCULIA  NU_NOTA_CN  NU_NOTA_CH  NU_NOTA_LC  NU_NOTA_MT  \\\n",
       "0               0       436.3       495.4       581.2       399.4   \n",
       "1               0       474.5       544.1       599.0       459.8   \n",
       "2               0         0.0         0.0         0.0         0.0   \n",
       "3               0         0.0         0.0         0.0         0.0   \n",
       "4               0         0.0         0.0         0.0         0.0   \n",
       "\n",
       "   NU_NOTA_REDACAO  TP_ESCOLA_Amarela  TP_ESCOLA_Branca  TP_ESCOLA_Indígena  \\\n",
       "0            520.0                  0                 1                   0   \n",
       "1            580.0                  0                 0                   0   \n",
       "2              0.0                  0                 0                   0   \n",
       "3              0.0                  0                 0                   0   \n",
       "4              0.0                  0                 0                   0   \n",
       "\n",
       "   TP_ESCOLA_Não Declarado  TP_ESCOLA_Parda  TP_ESCOLA_Preta  \\\n",
       "0                        0                0                0   \n",
       "1                        0                1                0   \n",
       "2                        0                1                0   \n",
       "3                        1                0                0   \n",
       "4                        0                0                1   \n",
       "\n",
       "   TP_COR_RACA_Exterior  TP_COR_RACA_Não Respondeu  TP_COR_RACA_Privada  \\\n",
       "0                     0                          1                    0   \n",
       "1                     0                          0                    0   \n",
       "2                     0                          1                    0   \n",
       "3                     0                          1                    0   \n",
       "4                     0                          1                    0   \n",
       "\n",
       "   TP_COR_RACA_Pública  \n",
       "0                    0  \n",
       "1                    1  \n",
       "2                    0  \n",
       "3                    0  \n",
       "4                    0  "
      ]
     },
     "execution_count": 16,
     "metadata": {},
     "output_type": "execute_result"
    }
   ],
   "source": [
    "df2.head(5)"
   ]
  },
  {
   "cell_type": "code",
   "execution_count": 17,
   "metadata": {},
   "outputs": [],
   "source": [
    "# Padronizando as notas\n",
    "# for col in df2.columns:\n",
    "#     if 'NU_NOTA' in col:\n",
    "#         mean_col = df2[col].mean()\n",
    "#         std_col = df2[col].std()\n",
    "#         df2[col] = (df2[col] - mean_col) / std_col"
   ]
  },
  {
   "cell_type": "code",
   "execution_count": 18,
   "metadata": {},
   "outputs": [],
   "source": [
    "# Normalizando as notas\n",
    "# for col in df2.columns:\n",
    "#     if 'NU_NOTA' in col:\n",
    "#         df2[col] = (df2[col] - df2[col].min()) / (df2[col].max() - df2[col].min())"
   ]
  },
  {
   "cell_type": "code",
   "execution_count": 19,
   "metadata": {},
   "outputs": [],
   "source": [
    "from sklearn import preprocessing"
   ]
  },
  {
   "cell_type": "code",
   "execution_count": 20,
   "metadata": {},
   "outputs": [],
   "source": [
    "for col in df2.columns:\n",
    "    if 'NU_NOTA' in col:\n",
    "            scaler = preprocessing.StandardScaler().fit(df2[[col]])\n",
    "            df2[col] = scaler.transform(df2[[col]])"
   ]
  },
  {
   "cell_type": "code",
   "execution_count": 21,
   "metadata": {},
   "outputs": [
    {
     "data": {
      "text/html": [
       "<div>\n",
       "<style scoped>\n",
       "    .dataframe tbody tr th:only-of-type {\n",
       "        vertical-align: middle;\n",
       "    }\n",
       "\n",
       "    .dataframe tbody tr th {\n",
       "        vertical-align: top;\n",
       "    }\n",
       "\n",
       "    .dataframe thead th {\n",
       "        text-align: right;\n",
       "    }\n",
       "</style>\n",
       "<table border=\"1\" class=\"dataframe\">\n",
       "  <thead>\n",
       "    <tr style=\"text-align: right;\">\n",
       "      <th></th>\n",
       "      <th>IN_DISCALCULIA</th>\n",
       "      <th>NU_NOTA_CN</th>\n",
       "      <th>NU_NOTA_CH</th>\n",
       "      <th>NU_NOTA_LC</th>\n",
       "      <th>NU_NOTA_MT</th>\n",
       "      <th>NU_NOTA_REDACAO</th>\n",
       "      <th>TP_ESCOLA_Amarela</th>\n",
       "      <th>TP_ESCOLA_Branca</th>\n",
       "      <th>TP_ESCOLA_Indígena</th>\n",
       "      <th>TP_ESCOLA_Não Declarado</th>\n",
       "      <th>TP_ESCOLA_Parda</th>\n",
       "      <th>TP_ESCOLA_Preta</th>\n",
       "      <th>TP_COR_RACA_Exterior</th>\n",
       "      <th>TP_COR_RACA_Não Respondeu</th>\n",
       "      <th>TP_COR_RACA_Privada</th>\n",
       "      <th>TP_COR_RACA_Pública</th>\n",
       "    </tr>\n",
       "  </thead>\n",
       "  <tbody>\n",
       "    <tr>\n",
       "      <th>count</th>\n",
       "      <td>13730.000000</td>\n",
       "      <td>1.373000e+04</td>\n",
       "      <td>1.373000e+04</td>\n",
       "      <td>1.373000e+04</td>\n",
       "      <td>1.373000e+04</td>\n",
       "      <td>1.373000e+04</td>\n",
       "      <td>13730.000000</td>\n",
       "      <td>13730.000000</td>\n",
       "      <td>13730.000000</td>\n",
       "      <td>13730.000000</td>\n",
       "      <td>13730.000000</td>\n",
       "      <td>13730.000000</td>\n",
       "      <td>13730.000000</td>\n",
       "      <td>13730.000000</td>\n",
       "      <td>13730.000000</td>\n",
       "      <td>13730.000000</td>\n",
       "    </tr>\n",
       "    <tr>\n",
       "      <th>mean</th>\n",
       "      <td>0.000073</td>\n",
       "      <td>-2.015948e-16</td>\n",
       "      <td>7.172380e-17</td>\n",
       "      <td>-2.192226e-16</td>\n",
       "      <td>6.761606e-17</td>\n",
       "      <td>3.032292e-17</td>\n",
       "      <td>0.022724</td>\n",
       "      <td>0.334232</td>\n",
       "      <td>0.007356</td>\n",
       "      <td>0.017553</td>\n",
       "      <td>0.487473</td>\n",
       "      <td>0.130663</td>\n",
       "      <td>0.000073</td>\n",
       "      <td>0.688055</td>\n",
       "      <td>0.041442</td>\n",
       "      <td>0.270430</td>\n",
       "    </tr>\n",
       "    <tr>\n",
       "      <th>std</th>\n",
       "      <td>0.008534</td>\n",
       "      <td>1.000036e+00</td>\n",
       "      <td>1.000036e+00</td>\n",
       "      <td>1.000036e+00</td>\n",
       "      <td>1.000036e+00</td>\n",
       "      <td>1.000036e+00</td>\n",
       "      <td>0.149028</td>\n",
       "      <td>0.471738</td>\n",
       "      <td>0.085455</td>\n",
       "      <td>0.131324</td>\n",
       "      <td>0.499861</td>\n",
       "      <td>0.337043</td>\n",
       "      <td>0.008534</td>\n",
       "      <td>0.463304</td>\n",
       "      <td>0.199318</td>\n",
       "      <td>0.444198</td>\n",
       "    </tr>\n",
       "    <tr>\n",
       "      <th>min</th>\n",
       "      <td>0.000000</td>\n",
       "      <td>-1.672124e+00</td>\n",
       "      <td>-1.682045e+00</td>\n",
       "      <td>-1.624476e+00</td>\n",
       "      <td>-1.556105e+00</td>\n",
       "      <td>-1.458311e+00</td>\n",
       "      <td>0.000000</td>\n",
       "      <td>0.000000</td>\n",
       "      <td>0.000000</td>\n",
       "      <td>0.000000</td>\n",
       "      <td>0.000000</td>\n",
       "      <td>0.000000</td>\n",
       "      <td>0.000000</td>\n",
       "      <td>0.000000</td>\n",
       "      <td>0.000000</td>\n",
       "      <td>0.000000</td>\n",
       "    </tr>\n",
       "    <tr>\n",
       "      <th>25%</th>\n",
       "      <td>0.000000</td>\n",
       "      <td>4.221547e-02</td>\n",
       "      <td>-2.235730e-01</td>\n",
       "      <td>-1.624476e+00</td>\n",
       "      <td>-1.556105e+00</td>\n",
       "      <td>-1.458311e+00</td>\n",
       "      <td>0.000000</td>\n",
       "      <td>0.000000</td>\n",
       "      <td>0.000000</td>\n",
       "      <td>0.000000</td>\n",
       "      <td>0.000000</td>\n",
       "      <td>0.000000</td>\n",
       "      <td>0.000000</td>\n",
       "      <td>0.000000</td>\n",
       "      <td>0.000000</td>\n",
       "      <td>0.000000</td>\n",
       "    </tr>\n",
       "    <tr>\n",
       "      <th>50%</th>\n",
       "      <td>0.000000</td>\n",
       "      <td>3.585917e-01</td>\n",
       "      <td>4.244964e-01</td>\n",
       "      <td>4.467837e-01</td>\n",
       "      <td>2.901966e-01</td>\n",
       "      <td>3.344757e-01</td>\n",
       "      <td>0.000000</td>\n",
       "      <td>0.000000</td>\n",
       "      <td>0.000000</td>\n",
       "      <td>0.000000</td>\n",
       "      <td>0.000000</td>\n",
       "      <td>0.000000</td>\n",
       "      <td>0.000000</td>\n",
       "      <td>1.000000</td>\n",
       "      <td>0.000000</td>\n",
       "      <td>0.000000</td>\n",
       "    </tr>\n",
       "    <tr>\n",
       "      <th>75%</th>\n",
       "      <td>0.000000</td>\n",
       "      <td>6.403881e-01</td>\n",
       "      <td>6.977228e-01</td>\n",
       "      <td>7.122970e-01</td>\n",
       "      <td>6.480951e-01</td>\n",
       "      <td>7.079729e-01</td>\n",
       "      <td>0.000000</td>\n",
       "      <td>1.000000</td>\n",
       "      <td>0.000000</td>\n",
       "      <td>0.000000</td>\n",
       "      <td>1.000000</td>\n",
       "      <td>0.000000</td>\n",
       "      <td>0.000000</td>\n",
       "      <td>1.000000</td>\n",
       "      <td>0.000000</td>\n",
       "      <td>1.000000</td>\n",
       "    </tr>\n",
       "    <tr>\n",
       "      <th>max</th>\n",
       "      <td>1.000000</td>\n",
       "      <td>2.108918e+00</td>\n",
       "      <td>1.720635e+00</td>\n",
       "      <td>1.629873e+00</td>\n",
       "      <td>2.604082e+00</td>\n",
       "      <td>2.276662e+00</td>\n",
       "      <td>1.000000</td>\n",
       "      <td>1.000000</td>\n",
       "      <td>1.000000</td>\n",
       "      <td>1.000000</td>\n",
       "      <td>1.000000</td>\n",
       "      <td>1.000000</td>\n",
       "      <td>1.000000</td>\n",
       "      <td>1.000000</td>\n",
       "      <td>1.000000</td>\n",
       "      <td>1.000000</td>\n",
       "    </tr>\n",
       "  </tbody>\n",
       "</table>\n",
       "</div>"
      ],
      "text/plain": [
       "       IN_DISCALCULIA    NU_NOTA_CN    NU_NOTA_CH    NU_NOTA_LC    NU_NOTA_MT  \\\n",
       "count    13730.000000  1.373000e+04  1.373000e+04  1.373000e+04  1.373000e+04   \n",
       "mean         0.000073 -2.015948e-16  7.172380e-17 -2.192226e-16  6.761606e-17   \n",
       "std          0.008534  1.000036e+00  1.000036e+00  1.000036e+00  1.000036e+00   \n",
       "min          0.000000 -1.672124e+00 -1.682045e+00 -1.624476e+00 -1.556105e+00   \n",
       "25%          0.000000  4.221547e-02 -2.235730e-01 -1.624476e+00 -1.556105e+00   \n",
       "50%          0.000000  3.585917e-01  4.244964e-01  4.467837e-01  2.901966e-01   \n",
       "75%          0.000000  6.403881e-01  6.977228e-01  7.122970e-01  6.480951e-01   \n",
       "max          1.000000  2.108918e+00  1.720635e+00  1.629873e+00  2.604082e+00   \n",
       "\n",
       "       NU_NOTA_REDACAO  TP_ESCOLA_Amarela  TP_ESCOLA_Branca  \\\n",
       "count     1.373000e+04       13730.000000      13730.000000   \n",
       "mean      3.032292e-17           0.022724          0.334232   \n",
       "std       1.000036e+00           0.149028          0.471738   \n",
       "min      -1.458311e+00           0.000000          0.000000   \n",
       "25%      -1.458311e+00           0.000000          0.000000   \n",
       "50%       3.344757e-01           0.000000          0.000000   \n",
       "75%       7.079729e-01           0.000000          1.000000   \n",
       "max       2.276662e+00           1.000000          1.000000   \n",
       "\n",
       "       TP_ESCOLA_Indígena  TP_ESCOLA_Não Declarado  TP_ESCOLA_Parda  \\\n",
       "count        13730.000000             13730.000000     13730.000000   \n",
       "mean             0.007356                 0.017553         0.487473   \n",
       "std              0.085455                 0.131324         0.499861   \n",
       "min              0.000000                 0.000000         0.000000   \n",
       "25%              0.000000                 0.000000         0.000000   \n",
       "50%              0.000000                 0.000000         0.000000   \n",
       "75%              0.000000                 0.000000         1.000000   \n",
       "max              1.000000                 1.000000         1.000000   \n",
       "\n",
       "       TP_ESCOLA_Preta  TP_COR_RACA_Exterior  TP_COR_RACA_Não Respondeu  \\\n",
       "count     13730.000000          13730.000000               13730.000000   \n",
       "mean          0.130663              0.000073                   0.688055   \n",
       "std           0.337043              0.008534                   0.463304   \n",
       "min           0.000000              0.000000                   0.000000   \n",
       "25%           0.000000              0.000000                   0.000000   \n",
       "50%           0.000000              0.000000                   1.000000   \n",
       "75%           0.000000              0.000000                   1.000000   \n",
       "max           1.000000              1.000000                   1.000000   \n",
       "\n",
       "       TP_COR_RACA_Privada  TP_COR_RACA_Pública  \n",
       "count         13730.000000         13730.000000  \n",
       "mean              0.041442             0.270430  \n",
       "std               0.199318             0.444198  \n",
       "min               0.000000             0.000000  \n",
       "25%               0.000000             0.000000  \n",
       "50%               0.000000             0.000000  \n",
       "75%               0.000000             1.000000  \n",
       "max               1.000000             1.000000  "
      ]
     },
     "execution_count": 21,
     "metadata": {},
     "output_type": "execute_result"
    }
   ],
   "source": [
    "df2.describe()"
   ]
  },
  {
   "cell_type": "code",
   "execution_count": 22,
   "metadata": {
    "scrolled": true
   },
   "outputs": [
    {
     "data": {
      "text/plain": [
       "IN_DISCALCULIA                 int64\n",
       "NU_NOTA_CN                   float64\n",
       "NU_NOTA_CH                   float64\n",
       "NU_NOTA_LC                   float64\n",
       "NU_NOTA_MT                   float64\n",
       "NU_NOTA_REDACAO              float64\n",
       "TP_ESCOLA_Amarela              uint8\n",
       "TP_ESCOLA_Branca               uint8\n",
       "TP_ESCOLA_Indígena             uint8\n",
       "TP_ESCOLA_Não Declarado        uint8\n",
       "TP_ESCOLA_Parda                uint8\n",
       "TP_ESCOLA_Preta                uint8\n",
       "TP_COR_RACA_Exterior           uint8\n",
       "TP_COR_RACA_Não Respondeu      uint8\n",
       "TP_COR_RACA_Privada            uint8\n",
       "TP_COR_RACA_Pública            uint8\n",
       "dtype: object"
      ]
     },
     "execution_count": 22,
     "metadata": {},
     "output_type": "execute_result"
    }
   ],
   "source": [
    "# Verificando os tipos das colunas, no caso não é necessário fazer nenhum tipo de tratamento e/ou limpeza\n",
    "df2.dtypes"
   ]
  },
  {
   "cell_type": "code",
   "execution_count": 23,
   "metadata": {},
   "outputs": [
    {
     "data": {
      "text/plain": [
       "Index(['IN_DISCALCULIA', 'NU_NOTA_CN', 'NU_NOTA_CH', 'NU_NOTA_LC',\n",
       "       'NU_NOTA_MT', 'NU_NOTA_REDACAO', 'TP_ESCOLA_Amarela',\n",
       "       'TP_ESCOLA_Branca', 'TP_ESCOLA_Indígena', 'TP_ESCOLA_Não Declarado',\n",
       "       'TP_ESCOLA_Parda', 'TP_ESCOLA_Preta', 'TP_COR_RACA_Exterior',\n",
       "       'TP_COR_RACA_Não Respondeu', 'TP_COR_RACA_Privada',\n",
       "       'TP_COR_RACA_Pública'],\n",
       "      dtype='object')"
      ]
     },
     "execution_count": 23,
     "metadata": {},
     "output_type": "execute_result"
    }
   ],
   "source": [
    "df2.columns"
   ]
  },
  {
   "cell_type": "code",
   "execution_count": 24,
   "metadata": {},
   "outputs": [],
   "source": [
    "# Separando as variáveis independentes(X) e a variáveis dependente(Y)\n",
    "X = df2[['IN_DISCALCULIA', \n",
    "         'NU_NOTA_CN', \n",
    "         'NU_NOTA_CH', \n",
    "         'NU_NOTA_LC',\n",
    "         'NU_NOTA_REDACAO', \n",
    "         'TP_ESCOLA_Amarela',\n",
    "         'TP_ESCOLA_Branca', \n",
    "         'TP_ESCOLA_Indígena',\n",
    "         'TP_ESCOLA_Não Declarado',\n",
    "         'TP_ESCOLA_Parda',\n",
    "         'TP_ESCOLA_Preta',\n",
    "         'TP_COR_RACA_Exterior',\n",
    "         'TP_COR_RACA_Não Respondeu', \n",
    "         'TP_COR_RACA_Privada',\n",
    "         'TP_COR_RACA_Pública'\n",
    "]]\n",
    "\n",
    "Y = df2['NU_NOTA_MT']"
   ]
  },
  {
   "cell_type": "code",
   "execution_count": 25,
   "metadata": {},
   "outputs": [],
   "source": [
    "from sklearn.model_selection import train_test_split\n",
    "from sklearn.linear_model import LinearRegression\n",
    "from sklearn import metrics"
   ]
  },
  {
   "cell_type": "code",
   "execution_count": 26,
   "metadata": {},
   "outputs": [],
   "source": [
    "# Dividindo X e Y em dados de treino e de teste\n",
    "X_treino, X_teste, Y_treino, Y_teste = train_test_split(X, Y, test_size = 0.30, random_state = 5)"
   ]
  },
  {
   "cell_type": "code",
   "execution_count": 27,
   "metadata": {},
   "outputs": [
    {
     "name": "stdout",
     "output_type": "stream",
     "text": [
      "(9611, 15) (4119, 15) (9611,) (4119,)\n"
     ]
    }
   ],
   "source": [
    "# Imprimindo o shape dos datasets\n",
    "print(X_treino.shape, X_teste.shape, Y_treino.shape, Y_teste.shape)"
   ]
  },
  {
   "cell_type": "code",
   "execution_count": 28,
   "metadata": {},
   "outputs": [
    {
     "data": {
      "text/plain": [
       "LinearRegression(copy_X=True, fit_intercept=True, n_jobs=None, normalize=False)"
      ]
     },
     "execution_count": 28,
     "metadata": {},
     "output_type": "execute_result"
    }
   ],
   "source": [
    "# Treinando o modelo\n",
    "linR = LinearRegression()\n",
    "linR.fit(X_treino, Y_treino)"
   ]
  },
  {
   "cell_type": "code",
   "execution_count": 29,
   "metadata": {},
   "outputs": [
    {
     "name": "stdout",
     "output_type": "stream",
     "text": [
      "90.69677444217197 %\n"
     ]
    }
   ],
   "source": [
    "# Prevendo e medindo a acurácia do modelo\n",
    "linR.predict(X_teste)\n",
    "accuracy = linR.score(X_teste,Y_teste)\n",
    "print(accuracy * 100, '%')"
   ]
  },
  {
   "cell_type": "code",
   "execution_count": 41,
   "metadata": {},
   "outputs": [],
   "source": [
    "# importando os dados de teste, conforme solicitado no desafio\n",
    "data = pd.read_csv('data/test-enem.csv')"
   ]
  },
  {
   "cell_type": "code",
   "execution_count": 42,
   "metadata": {},
   "outputs": [],
   "source": [
    "# Filtrando as colunas correspondentes às variáveis dependentes\n",
    "colunas = ['TP_COR_RACA',\n",
    "           'TP_ESCOLA',\n",
    "           'IN_DISCALCULIA',\n",
    "           'NU_NOTA_CN', \n",
    "           'NU_NOTA_CH', \n",
    "           'NU_NOTA_LC', \n",
    "           'NU_NOTA_REDACAO']\n",
    "df3 = data[colunas]"
   ]
  },
  {
   "cell_type": "code",
   "execution_count": 43,
   "metadata": {},
   "outputs": [],
   "source": [
    "# Preenchendo os valores nulos\n",
    "df3 = df3.fillna(0)"
   ]
  },
  {
   "cell_type": "code",
   "execution_count": 44,
   "metadata": {},
   "outputs": [
    {
     "data": {
      "text/html": [
       "<div>\n",
       "<style scoped>\n",
       "    .dataframe tbody tr th:only-of-type {\n",
       "        vertical-align: middle;\n",
       "    }\n",
       "\n",
       "    .dataframe tbody tr th {\n",
       "        vertical-align: top;\n",
       "    }\n",
       "\n",
       "    .dataframe thead th {\n",
       "        text-align: right;\n",
       "    }\n",
       "</style>\n",
       "<table border=\"1\" class=\"dataframe\">\n",
       "  <thead>\n",
       "    <tr style=\"text-align: right;\">\n",
       "      <th></th>\n",
       "      <th>TP_COR_RACA</th>\n",
       "      <th>TP_ESCOLA</th>\n",
       "      <th>IN_DISCALCULIA</th>\n",
       "      <th>NU_NOTA_CN</th>\n",
       "      <th>NU_NOTA_CH</th>\n",
       "      <th>NU_NOTA_LC</th>\n",
       "      <th>NU_NOTA_REDACAO</th>\n",
       "    </tr>\n",
       "  </thead>\n",
       "  <tbody>\n",
       "    <tr>\n",
       "      <th>0</th>\n",
       "      <td>3</td>\n",
       "      <td>1</td>\n",
       "      <td>0</td>\n",
       "      <td>464.8</td>\n",
       "      <td>443.5</td>\n",
       "      <td>431.8</td>\n",
       "      <td>420.0</td>\n",
       "    </tr>\n",
       "    <tr>\n",
       "      <th>1</th>\n",
       "      <td>3</td>\n",
       "      <td>1</td>\n",
       "      <td>0</td>\n",
       "      <td>391.1</td>\n",
       "      <td>491.1</td>\n",
       "      <td>548.0</td>\n",
       "      <td>580.0</td>\n",
       "    </tr>\n",
       "    <tr>\n",
       "      <th>2</th>\n",
       "      <td>1</td>\n",
       "      <td>2</td>\n",
       "      <td>0</td>\n",
       "      <td>595.9</td>\n",
       "      <td>622.7</td>\n",
       "      <td>613.6</td>\n",
       "      <td>320.0</td>\n",
       "    </tr>\n",
       "    <tr>\n",
       "      <th>3</th>\n",
       "      <td>3</td>\n",
       "      <td>1</td>\n",
       "      <td>0</td>\n",
       "      <td>0.0</td>\n",
       "      <td>0.0</td>\n",
       "      <td>0.0</td>\n",
       "      <td>0.0</td>\n",
       "    </tr>\n",
       "    <tr>\n",
       "      <th>4</th>\n",
       "      <td>1</td>\n",
       "      <td>2</td>\n",
       "      <td>0</td>\n",
       "      <td>592.9</td>\n",
       "      <td>492.6</td>\n",
       "      <td>571.4</td>\n",
       "      <td>320.0</td>\n",
       "    </tr>\n",
       "  </tbody>\n",
       "</table>\n",
       "</div>"
      ],
      "text/plain": [
       "   TP_COR_RACA  TP_ESCOLA  IN_DISCALCULIA  NU_NOTA_CN  NU_NOTA_CH  NU_NOTA_LC  \\\n",
       "0            3          1               0       464.8       443.5       431.8   \n",
       "1            3          1               0       391.1       491.1       548.0   \n",
       "2            1          2               0       595.9       622.7       613.6   \n",
       "3            3          1               0         0.0         0.0         0.0   \n",
       "4            1          2               0       592.9       492.6       571.4   \n",
       "\n",
       "   NU_NOTA_REDACAO  \n",
       "0            420.0  \n",
       "1            580.0  \n",
       "2            320.0  \n",
       "3              0.0  \n",
       "4            320.0  "
      ]
     },
     "execution_count": 44,
     "metadata": {},
     "output_type": "execute_result"
    }
   ],
   "source": [
    "df3.head(5)"
   ]
  },
  {
   "cell_type": "code",
   "execution_count": 45,
   "metadata": {},
   "outputs": [],
   "source": [
    "df3['TP_ESCOLA'] = df3['TP_ESCOLA'].map(dict_tp_escola)\n",
    "df3['TP_COR_RACA'] = df3['TP_COR_RACA'].map(dict_cor_raca)"
   ]
  },
  {
   "cell_type": "code",
   "execution_count": 46,
   "metadata": {
    "scrolled": true
   },
   "outputs": [
    {
     "data": {
      "text/plain": [
       "Index(['IN_DISCALCULIA', 'NU_NOTA_CN', 'NU_NOTA_CH', 'NU_NOTA_LC',\n",
       "       'NU_NOTA_REDACAO', 'TP_ESCOLA_Amarela', 'TP_ESCOLA_Branca',\n",
       "       'TP_ESCOLA_Indígena', 'TP_ESCOLA_Não Declarado', 'TP_ESCOLA_Parda',\n",
       "       'TP_ESCOLA_Preta', 'TP_COR_RACA_Não Respondeu', 'TP_COR_RACA_Privada',\n",
       "       'TP_COR_RACA_Pública'],\n",
       "      dtype='object')"
      ]
     },
     "execution_count": 46,
     "metadata": {},
     "output_type": "execute_result"
    }
   ],
   "source": [
    "df3 = pd.get_dummies(df3, prefix=['TP_ESCOLA', 'TP_COR_RACA'])\n",
    "df3.columns"
   ]
  },
  {
   "cell_type": "code",
   "execution_count": 47,
   "metadata": {},
   "outputs": [],
   "source": [
    "df3['TP_ESCOLA_Exterior'] = np.array(0)"
   ]
  },
  {
   "cell_type": "code",
   "execution_count": 48,
   "metadata": {},
   "outputs": [
    {
     "data": {
      "text/plain": [
       "Index(['IN_DISCALCULIA', 'NU_NOTA_CN', 'NU_NOTA_CH', 'NU_NOTA_LC',\n",
       "       'NU_NOTA_REDACAO', 'TP_ESCOLA_Amarela', 'TP_ESCOLA_Branca',\n",
       "       'TP_ESCOLA_Indígena', 'TP_ESCOLA_Não Declarado', 'TP_ESCOLA_Parda',\n",
       "       'TP_ESCOLA_Preta', 'TP_COR_RACA_Não Respondeu', 'TP_COR_RACA_Privada',\n",
       "       'TP_COR_RACA_Pública', 'TP_ESCOLA_Exterior'],\n",
       "      dtype='object')"
      ]
     },
     "execution_count": 48,
     "metadata": {},
     "output_type": "execute_result"
    }
   ],
   "source": [
    "df3.columns"
   ]
  },
  {
   "cell_type": "code",
   "execution_count": 49,
   "metadata": {},
   "outputs": [],
   "source": [
    "# Fazendo a predição \n",
    "result = linR.predict(df3)"
   ]
  },
  {
   "cell_type": "code",
   "execution_count": 66,
   "metadata": {},
   "outputs": [],
   "source": [
    "resposta = pd.DataFrame(data['NU_INSCRICAO']).join(pd.DataFrame(result))\n",
    "resposta.columns = ['NU_INSCRICAO', 'NU_NOTA_MT']"
   ]
  },
  {
   "cell_type": "code",
   "execution_count": 67,
   "metadata": {},
   "outputs": [],
   "source": [
    "# Tratando os valores negativos\n",
    "resposta['NU_NOTA_MT'] = resposta['NU_NOTA_MT'].apply(lambda x: 0 if (x < 0) else x)"
   ]
  },
  {
   "cell_type": "code",
   "execution_count": 68,
   "metadata": {},
   "outputs": [],
   "source": [
    "# Exportando o resultado como answer.csv\n",
    "resposta.to_csv(r'/home/guilherme/Documents/Python/desafio-codenation/answer.csv', index=False)"
   ]
  }
 ],
 "metadata": {
  "kernelspec": {
   "display_name": "Python 3",
   "language": "python",
   "name": "python3"
  },
  "language_info": {
   "codemirror_mode": {
    "name": "ipython",
    "version": 3
   },
   "file_extension": ".py",
   "mimetype": "text/x-python",
   "name": "python",
   "nbconvert_exporter": "python",
   "pygments_lexer": "ipython3",
   "version": "3.8.2"
  }
 },
 "nbformat": 4,
 "nbformat_minor": 4
}
